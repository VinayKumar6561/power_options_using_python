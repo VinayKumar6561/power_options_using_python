{
 "cells": [
  {
   "cell_type": "code",
   "execution_count": 3,
   "id": "0e8308e5",
   "metadata": {},
   "outputs": [],
   "source": [
    "from tkinter import *\n",
    "import os\n",
    "def restart():\n",
    "    os.system(\"shutdown /r /t 1\")\n",
    "def restart_time():\n",
    "    os.system(\"shutdown /r /t 20\")\n",
    "def logout():\n",
    "    os.system(\"shutdown -1\")\n",
    "def shutdown():\n",
    "    os.system(\"shutdown /s /t 1\")\n",
    "power=Tk()\n",
    "power.title(\"ShutDown App\")\n",
    "power.geometry(\"500x500\")\n",
    "power.config(bg=\"Red\")\n",
    "res_button=Button(power,text=\"Restart\",font=(\"Time New Roman\",30,\"bold\"),relief=RAISED,cursor=\"plus\",command=restart)\n",
    "res_button.place(x=150,y=60,height=50,width=200)\n",
    "res_t_button=Button(power,text=\"Restart Time\",font=(\"Time New Roman\",24,\"bold\"),relief=RAISED,cursor=\"plus\",command=restart_time)\n",
    "res_t_button.place(x=150,y=170,height=50,width=200)\n",
    "log_button=Button(power,text=\"Log Out\",font=(\"Time New Roman\",30,\"bold\"),relief=RAISED,cursor=\"plus\",command=logout)\n",
    "log_button.place(x=150,y=270,height=50,width=200)\n",
    "shdw_button=Button(power,text=\"Shut Down\",font=(\"Time New Roman\",28,\"bold\"),relief=RAISED,cursor=\"plus\",command=shutdown)\n",
    "shdw_button.place(x=150,y=370,height=50,width=200)\n",
    "power.mainloop()"
   ]
  },
  {
   "cell_type": "code",
   "execution_count": null,
   "id": "65f5097e",
   "metadata": {},
   "outputs": [],
   "source": []
  },
  {
   "cell_type": "code",
   "execution_count": null,
   "id": "7717a81c",
   "metadata": {},
   "outputs": [],
   "source": []
  }
 ],
 "metadata": {
  "kernelspec": {
   "display_name": "Python 3 (ipykernel)",
   "language": "python",
   "name": "python3"
  },
  "language_info": {
   "codemirror_mode": {
    "name": "ipython",
    "version": 3
   },
   "file_extension": ".py",
   "mimetype": "text/x-python",
   "name": "python",
   "nbconvert_exporter": "python",
   "pygments_lexer": "ipython3",
   "version": "3.9.12"
  }
 },
 "nbformat": 4,
 "nbformat_minor": 5
}
